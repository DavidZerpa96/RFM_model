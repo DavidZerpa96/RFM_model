{
 "cells": [
  {
   "cell_type": "markdown",
   "id": "37b43665",
   "metadata": {},
   "source": [
    "# Optimizing Retail Sales: RFM Model with K-Means Clustering"
   ]
  },
  {
   "cell_type": "markdown",
   "id": "eab5757d",
   "metadata": {},
   "source": [
    "## Data Cleaning: Preparing the Dataset for Analysis"
   ]
  },
  {
   "cell_type": "markdown",
   "id": "cdc68184",
   "metadata": {},
   "source": [
    "#### Imports"
   ]
  },
  {
   "cell_type": "code",
   "execution_count": 1,
   "id": "5491a7cb",
   "metadata": {},
   "outputs": [
    {
     "name": "stderr",
     "output_type": "stream",
     "text": [
      "Fontconfig warning: ignoring UTF-8: not a valid region tag\n",
      "Matplotlib is building the font cache; this may take a moment.\n"
     ]
    }
   ],
   "source": [
    "import pandas as pd\n",
    "from sklearn.preprocessing import StandardScaler\n",
    "from sklearn.cluster import KMeans\n",
    "from sklearn.cluster import MiniBatchKMeans\n",
    "import matplotlib.pyplot as plt\n",
    "from sklearn.metrics import silhouette_score\n",
    "import numpy as np\n",
    "from sklearn.decomposition import PCA"
   ]
  },
  {
   "cell_type": "code",
   "execution_count": 2,
   "id": "5fe94e50",
   "metadata": {},
   "outputs": [],
   "source": [
    "# Loading CSV File\n",
    "file_path = 'online_retail_listing.csv'\n",
    "raw_data = pd.read_csv(file_path, delimiter=';', encoding='latin1', decimal=',')"
   ]
  },
  {
   "cell_type": "code",
   "execution_count": 3,
   "id": "31af356a",
   "metadata": {},
   "outputs": [
    {
     "data": {
      "text/html": [
       "<div>\n",
       "<style scoped>\n",
       "    .dataframe tbody tr th:only-of-type {\n",
       "        vertical-align: middle;\n",
       "    }\n",
       "\n",
       "    .dataframe tbody tr th {\n",
       "        vertical-align: top;\n",
       "    }\n",
       "\n",
       "    .dataframe thead th {\n",
       "        text-align: right;\n",
       "    }\n",
       "</style>\n",
       "<table border=\"1\" class=\"dataframe\">\n",
       "  <thead>\n",
       "    <tr style=\"text-align: right;\">\n",
       "      <th></th>\n",
       "      <th>Invoice</th>\n",
       "      <th>StockCode</th>\n",
       "      <th>Description</th>\n",
       "      <th>Quantity</th>\n",
       "      <th>InvoiceDate</th>\n",
       "      <th>Price</th>\n",
       "      <th>Customer ID</th>\n",
       "      <th>Country</th>\n",
       "    </tr>\n",
       "  </thead>\n",
       "  <tbody>\n",
       "    <tr>\n",
       "      <th>0</th>\n",
       "      <td>489434</td>\n",
       "      <td>85048</td>\n",
       "      <td>15CM CHRISTMAS GLASS BALL 20 LIGHTS</td>\n",
       "      <td>12</td>\n",
       "      <td>1.12.2009 07:45</td>\n",
       "      <td>6.95</td>\n",
       "      <td>13085.0</td>\n",
       "      <td>United Kingdom</td>\n",
       "    </tr>\n",
       "    <tr>\n",
       "      <th>1</th>\n",
       "      <td>489434</td>\n",
       "      <td>79323P</td>\n",
       "      <td>PINK CHERRY LIGHTS</td>\n",
       "      <td>12</td>\n",
       "      <td>1.12.2009 07:45</td>\n",
       "      <td>6.75</td>\n",
       "      <td>13085.0</td>\n",
       "      <td>United Kingdom</td>\n",
       "    </tr>\n",
       "    <tr>\n",
       "      <th>2</th>\n",
       "      <td>489434</td>\n",
       "      <td>79323W</td>\n",
       "      <td>WHITE CHERRY LIGHTS</td>\n",
       "      <td>12</td>\n",
       "      <td>1.12.2009 07:45</td>\n",
       "      <td>6.75</td>\n",
       "      <td>13085.0</td>\n",
       "      <td>United Kingdom</td>\n",
       "    </tr>\n",
       "    <tr>\n",
       "      <th>3</th>\n",
       "      <td>489434</td>\n",
       "      <td>22041</td>\n",
       "      <td>RECORD FRAME 7\" SINGLE SIZE</td>\n",
       "      <td>48</td>\n",
       "      <td>1.12.2009 07:45</td>\n",
       "      <td>2.10</td>\n",
       "      <td>13085.0</td>\n",
       "      <td>United Kingdom</td>\n",
       "    </tr>\n",
       "    <tr>\n",
       "      <th>4</th>\n",
       "      <td>489434</td>\n",
       "      <td>21232</td>\n",
       "      <td>STRAWBERRY CERAMIC TRINKET BOX</td>\n",
       "      <td>24</td>\n",
       "      <td>1.12.2009 07:45</td>\n",
       "      <td>1.25</td>\n",
       "      <td>13085.0</td>\n",
       "      <td>United Kingdom</td>\n",
       "    </tr>\n",
       "  </tbody>\n",
       "</table>\n",
       "</div>"
      ],
      "text/plain": [
       "  Invoice StockCode                          Description  Quantity  \\\n",
       "0  489434     85048  15CM CHRISTMAS GLASS BALL 20 LIGHTS        12   \n",
       "1  489434    79323P                   PINK CHERRY LIGHTS        12   \n",
       "2  489434    79323W                  WHITE CHERRY LIGHTS        12   \n",
       "3  489434     22041         RECORD FRAME 7\" SINGLE SIZE         48   \n",
       "4  489434     21232       STRAWBERRY CERAMIC TRINKET BOX        24   \n",
       "\n",
       "       InvoiceDate  Price  Customer ID         Country  \n",
       "0  1.12.2009 07:45   6.95      13085.0  United Kingdom  \n",
       "1  1.12.2009 07:45   6.75      13085.0  United Kingdom  \n",
       "2  1.12.2009 07:45   6.75      13085.0  United Kingdom  \n",
       "3  1.12.2009 07:45   2.10      13085.0  United Kingdom  \n",
       "4  1.12.2009 07:45   1.25      13085.0  United Kingdom  "
      ]
     },
     "execution_count": 3,
     "metadata": {},
     "output_type": "execute_result"
    }
   ],
   "source": [
    "raw_data.head()"
   ]
  },
  {
   "cell_type": "code",
   "execution_count": 4,
   "id": "34b17f85",
   "metadata": {},
   "outputs": [
    {
     "name": "stdout",
     "output_type": "stream",
     "text": [
      "<class 'pandas.core.frame.DataFrame'>\n",
      "RangeIndex: 1048575 entries, 0 to 1048574\n",
      "Data columns (total 8 columns):\n",
      " #   Column       Non-Null Count    Dtype  \n",
      "---  ------       --------------    -----  \n",
      " 0   Invoice      1048575 non-null  object \n",
      " 1   StockCode    1048575 non-null  object \n",
      " 2   Description  1044203 non-null  object \n",
      " 3   Quantity     1048575 non-null  int64  \n",
      " 4   InvoiceDate  1048575 non-null  object \n",
      " 5   Price        1048575 non-null  float64\n",
      " 6   Customer ID  811893 non-null   float64\n",
      " 7   Country      1048575 non-null  object \n",
      "dtypes: float64(2), int64(1), object(5)\n",
      "memory usage: 64.0+ MB\n"
     ]
    }
   ],
   "source": [
    "raw_data.info()"
   ]
  },
  {
   "cell_type": "code",
   "execution_count": 5,
   "id": "9c149730",
   "metadata": {},
   "outputs": [
    {
     "data": {
      "text/plain": [
       "Invoice        52961\n",
       "StockCode       5304\n",
       "Description     5697\n",
       "Quantity        1048\n",
       "InvoiceDate    47046\n",
       "Price           2784\n",
       "Customer ID     5924\n",
       "Country           43\n",
       "dtype: int64"
      ]
     },
     "execution_count": 5,
     "metadata": {},
     "output_type": "execute_result"
    }
   ],
   "source": [
    "raw_data.nunique()"
   ]
  },
  {
   "cell_type": "code",
   "execution_count": 6,
   "id": "83da1b51",
   "metadata": {},
   "outputs": [
    {
     "data": {
      "text/plain": [
       "Invoice             0\n",
       "StockCode           0\n",
       "Description      4372\n",
       "Quantity            0\n",
       "InvoiceDate         0\n",
       "Price               0\n",
       "Customer ID    236682\n",
       "Country             0\n",
       "dtype: int64"
      ]
     },
     "execution_count": 6,
     "metadata": {},
     "output_type": "execute_result"
    }
   ],
   "source": [
    "# Check for null values in the dataset\n",
    "_raw_data = raw_data.copy()\n",
    "_raw_data.isnull().sum()"
   ]
  },
  {
   "cell_type": "code",
   "execution_count": 11,
   "id": "46333b59",
   "metadata": {},
   "outputs": [],
   "source": [
    "# Drop rows with missing Customer ID (necessary for RFM analysis)\n",
    "clean_data = _raw_data.dropna(subset=['Customer ID'])"
   ]
  },
  {
   "cell_type": "code",
   "execution_count": 12,
   "id": "3cd537df",
   "metadata": {},
   "outputs": [
    {
     "data": {
      "text/plain": [
       "Invoice        0\n",
       "StockCode      0\n",
       "Description    0\n",
       "Quantity       0\n",
       "InvoiceDate    0\n",
       "Price          0\n",
       "Customer ID    0\n",
       "Country        0\n",
       "dtype: int64"
      ]
     },
     "execution_count": 12,
     "metadata": {},
     "output_type": "execute_result"
    }
   ],
   "source": [
    "# Checking for null value cleanup\n",
    "clean_data.isnull().sum()"
   ]
  },
  {
   "cell_type": "code",
   "execution_count": 13,
   "id": "8b7d6f31",
   "metadata": {},
   "outputs": [],
   "source": [
    "# Create a full copy of the dataset to avoid chained assignment issues\n",
    "clean_data = clean_data.copy()\n",
    "\n",
    "# Convert Customer ID to string\n",
    "clean_data['Customer ID'] = clean_data['Customer ID'].astype(float).astype(int)\n",
    "clean_data['Customer ID'] = clean_data['Customer ID'].astype(str)"
   ]
  },
  {
   "cell_type": "code",
   "execution_count": 14,
   "id": "39d975fb",
   "metadata": {},
   "outputs": [
    {
     "name": "stdout",
     "output_type": "stream",
     "text": [
      "<class 'pandas.core.frame.DataFrame'>\n",
      "Index: 793309 entries, 0 to 1048574\n",
      "Data columns (total 8 columns):\n",
      " #   Column       Non-Null Count   Dtype         \n",
      "---  ------       --------------   -----         \n",
      " 0   Invoice      793309 non-null  object        \n",
      " 1   StockCode    793309 non-null  object        \n",
      " 2   Description  793309 non-null  object        \n",
      " 3   Quantity     793309 non-null  int64         \n",
      " 4   InvoiceDate  793309 non-null  datetime64[ns]\n",
      " 5   Price        793309 non-null  float64       \n",
      " 6   Customer ID  793309 non-null  object        \n",
      " 7   Country      793309 non-null  object        \n",
      "dtypes: datetime64[ns](1), float64(1), int64(1), object(5)\n",
      "memory usage: 54.5+ MB\n",
      "None\n"
     ]
    }
   ],
   "source": [
    "# Filter data with negative numbers\n",
    "clean_data = clean_data[(clean_data['Quantity'] > 0) & (clean_data['Price'] > 0)]\n",
    "clean_data['Price'] = clean_data['Price'].astype(float)\n",
    "\n",
    "# Convert InvoiceDate in Datetime from object type. \n",
    "clean_data[\"InvoiceDate\"] = pd.to_datetime(\n",
    "    clean_data[\"InvoiceDate\"], \n",
    "    format=\"%d.%m.%Y %H:%M\",  # Specify the expected format\n",
    "    dayfirst=True,            # Ensure day is parsed first\n",
    "    errors='coerce'           # Handle invalid dates by setting them to NaT\n",
    ")\n",
    "\n",
    "# Verifying that data has been cleaned\n",
    "\n",
    "print(clean_data.info())"
   ]
  },
  {
   "cell_type": "code",
   "execution_count": 15,
   "id": "f01406d2",
   "metadata": {},
   "outputs": [
    {
     "data": {
      "text/html": [
       "<div>\n",
       "<style scoped>\n",
       "    .dataframe tbody tr th:only-of-type {\n",
       "        vertical-align: middle;\n",
       "    }\n",
       "\n",
       "    .dataframe tbody tr th {\n",
       "        vertical-align: top;\n",
       "    }\n",
       "\n",
       "    .dataframe thead th {\n",
       "        text-align: right;\n",
       "    }\n",
       "</style>\n",
       "<table border=\"1\" class=\"dataframe\">\n",
       "  <thead>\n",
       "    <tr style=\"text-align: right;\">\n",
       "      <th></th>\n",
       "      <th>Invoice</th>\n",
       "      <th>StockCode</th>\n",
       "      <th>Description</th>\n",
       "      <th>Quantity</th>\n",
       "      <th>InvoiceDate</th>\n",
       "      <th>Price</th>\n",
       "      <th>Customer ID</th>\n",
       "      <th>Country</th>\n",
       "    </tr>\n",
       "  </thead>\n",
       "  <tbody>\n",
       "    <tr>\n",
       "      <th>0</th>\n",
       "      <td>489434</td>\n",
       "      <td>85048</td>\n",
       "      <td>15CM CHRISTMAS GLASS BALL 20 LIGHTS</td>\n",
       "      <td>12</td>\n",
       "      <td>2009-12-01 07:45:00</td>\n",
       "      <td>6.95</td>\n",
       "      <td>13085</td>\n",
       "      <td>United Kingdom</td>\n",
       "    </tr>\n",
       "    <tr>\n",
       "      <th>1</th>\n",
       "      <td>489434</td>\n",
       "      <td>79323P</td>\n",
       "      <td>PINK CHERRY LIGHTS</td>\n",
       "      <td>12</td>\n",
       "      <td>2009-12-01 07:45:00</td>\n",
       "      <td>6.75</td>\n",
       "      <td>13085</td>\n",
       "      <td>United Kingdom</td>\n",
       "    </tr>\n",
       "    <tr>\n",
       "      <th>2</th>\n",
       "      <td>489434</td>\n",
       "      <td>79323W</td>\n",
       "      <td>WHITE CHERRY LIGHTS</td>\n",
       "      <td>12</td>\n",
       "      <td>2009-12-01 07:45:00</td>\n",
       "      <td>6.75</td>\n",
       "      <td>13085</td>\n",
       "      <td>United Kingdom</td>\n",
       "    </tr>\n",
       "    <tr>\n",
       "      <th>3</th>\n",
       "      <td>489434</td>\n",
       "      <td>22041</td>\n",
       "      <td>RECORD FRAME 7\" SINGLE SIZE</td>\n",
       "      <td>48</td>\n",
       "      <td>2009-12-01 07:45:00</td>\n",
       "      <td>2.10</td>\n",
       "      <td>13085</td>\n",
       "      <td>United Kingdom</td>\n",
       "    </tr>\n",
       "    <tr>\n",
       "      <th>4</th>\n",
       "      <td>489434</td>\n",
       "      <td>21232</td>\n",
       "      <td>STRAWBERRY CERAMIC TRINKET BOX</td>\n",
       "      <td>24</td>\n",
       "      <td>2009-12-01 07:45:00</td>\n",
       "      <td>1.25</td>\n",
       "      <td>13085</td>\n",
       "      <td>United Kingdom</td>\n",
       "    </tr>\n",
       "  </tbody>\n",
       "</table>\n",
       "</div>"
      ],
      "text/plain": [
       "  Invoice StockCode                          Description  Quantity  \\\n",
       "0  489434     85048  15CM CHRISTMAS GLASS BALL 20 LIGHTS        12   \n",
       "1  489434    79323P                   PINK CHERRY LIGHTS        12   \n",
       "2  489434    79323W                  WHITE CHERRY LIGHTS        12   \n",
       "3  489434     22041         RECORD FRAME 7\" SINGLE SIZE         48   \n",
       "4  489434     21232       STRAWBERRY CERAMIC TRINKET BOX        24   \n",
       "\n",
       "          InvoiceDate  Price Customer ID         Country  \n",
       "0 2009-12-01 07:45:00   6.95       13085  United Kingdom  \n",
       "1 2009-12-01 07:45:00   6.75       13085  United Kingdom  \n",
       "2 2009-12-01 07:45:00   6.75       13085  United Kingdom  \n",
       "3 2009-12-01 07:45:00   2.10       13085  United Kingdom  \n",
       "4 2009-12-01 07:45:00   1.25       13085  United Kingdom  "
      ]
     },
     "execution_count": 15,
     "metadata": {},
     "output_type": "execute_result"
    }
   ],
   "source": [
    "clean_data.head()"
   ]
  },
  {
   "cell_type": "markdown",
   "id": "ddb1fa98",
   "metadata": {},
   "source": [
    "## Creating RFM Metrics (Recency, Frequency, Monetary) "
   ]
  },
  {
   "cell_type": "code",
   "execution_count": 16,
   "id": "410824bb",
   "metadata": {},
   "outputs": [],
   "source": [
    "# Define a reference date (e.g., max date in the dataset)\n",
    "reference_date = clean_data['InvoiceDate'].max()"
   ]
  },
  {
   "cell_type": "markdown",
   "id": "f6a35519",
   "metadata": {},
   "source": [
    "#### We group the data by clients"
   ]
  },
  {
   "cell_type": "code",
   "execution_count": 17,
   "id": "92dd35bd",
   "metadata": {},
   "outputs": [],
   "source": [
    "# Aggregate data to calculate RFM metrics\n",
    "rfm_data = clean_data.groupby('Customer ID').agg({\n",
    "    'InvoiceDate': lambda x: (reference_date - x.max()).days,  # Recency\n",
    "    'Invoice': 'nunique',  # Frequency\n",
    "    'Price': lambda x: (x * clean_data.loc[x.index, 'Quantity']).sum()  # Monetary\n",
    "})\n",
    "\n",
    "# Rename columns for clarity\n",
    "rfm_data.rename(columns={\n",
    "    'InvoiceDate': 'Recency',\n",
    "    'Invoice': 'Frequency',\n",
    "    'Price': 'Monetary'\n",
    "}, inplace=True)"
   ]
  },
  {
   "cell_type": "code",
   "execution_count": 18,
   "id": "52bba842",
   "metadata": {},
   "outputs": [
    {
     "data": {
      "text/html": [
       "<div>\n",
       "<style scoped>\n",
       "    .dataframe tbody tr th:only-of-type {\n",
       "        vertical-align: middle;\n",
       "    }\n",
       "\n",
       "    .dataframe tbody tr th {\n",
       "        vertical-align: top;\n",
       "    }\n",
       "\n",
       "    .dataframe thead th {\n",
       "        text-align: right;\n",
       "    }\n",
       "</style>\n",
       "<table border=\"1\" class=\"dataframe\">\n",
       "  <thead>\n",
       "    <tr style=\"text-align: right;\">\n",
       "      <th></th>\n",
       "      <th>Recency</th>\n",
       "      <th>Frequency</th>\n",
       "      <th>Monetary</th>\n",
       "    </tr>\n",
       "    <tr>\n",
       "      <th>Customer ID</th>\n",
       "      <th></th>\n",
       "      <th></th>\n",
       "      <th></th>\n",
       "    </tr>\n",
       "  </thead>\n",
       "  <tbody>\n",
       "    <tr>\n",
       "      <th>12346</th>\n",
       "      <td>320</td>\n",
       "      <td>12</td>\n",
       "      <td>77556.46</td>\n",
       "    </tr>\n",
       "    <tr>\n",
       "      <th>12347</th>\n",
       "      <td>34</td>\n",
       "      <td>7</td>\n",
       "      <td>5408.50</td>\n",
       "    </tr>\n",
       "    <tr>\n",
       "      <th>12348</th>\n",
       "      <td>70</td>\n",
       "      <td>5</td>\n",
       "      <td>2019.40</td>\n",
       "    </tr>\n",
       "    <tr>\n",
       "      <th>12349</th>\n",
       "      <td>13</td>\n",
       "      <td>4</td>\n",
       "      <td>4428.69</td>\n",
       "    </tr>\n",
       "    <tr>\n",
       "      <th>12350</th>\n",
       "      <td>304</td>\n",
       "      <td>1</td>\n",
       "      <td>334.40</td>\n",
       "    </tr>\n",
       "  </tbody>\n",
       "</table>\n",
       "</div>"
      ],
      "text/plain": [
       "             Recency  Frequency  Monetary\n",
       "Customer ID                              \n",
       "12346            320         12  77556.46\n",
       "12347             34          7   5408.50\n",
       "12348             70          5   2019.40\n",
       "12349             13          4   4428.69\n",
       "12350            304          1    334.40"
      ]
     },
     "execution_count": 18,
     "metadata": {},
     "output_type": "execute_result"
    }
   ],
   "source": [
    "rfm_data.head()"
   ]
  },
  {
   "cell_type": "code",
   "execution_count": 19,
   "id": "0f951067",
   "metadata": {},
   "outputs": [
    {
     "name": "stdout",
     "output_type": "stream",
     "text": [
      "<class 'pandas.core.frame.DataFrame'>\n",
      "Index: 5860 entries, 12346 to 18287\n",
      "Data columns (total 3 columns):\n",
      " #   Column     Non-Null Count  Dtype  \n",
      "---  ------     --------------  -----  \n",
      " 0   Recency    5860 non-null   int64  \n",
      " 1   Frequency  5860 non-null   int64  \n",
      " 2   Monetary   5860 non-null   float64\n",
      "dtypes: float64(1), int64(2)\n",
      "memory usage: 183.1+ KB\n"
     ]
    }
   ],
   "source": [
    "rfm_data.info()"
   ]
  },
  {
   "cell_type": "markdown",
   "id": "0c9a5a46",
   "metadata": {},
   "source": [
    "## Preparing RFM Data for K-Means Clustering"
   ]
  },
  {
   "cell_type": "code",
   "execution_count": 20,
   "id": "31d68cff",
   "metadata": {},
   "outputs": [],
   "source": [
    "# Initialize the scaler\n",
    "scaler = StandardScaler()\n",
    "\n",
    "# Apply the scaler to the RFM metrics\n",
    "rfm_scaled = scaler.fit_transform(rfm_data)\n",
    "\n",
    "# Convert back to a DataFrame for easier handling\n",
    "rfm_scaled = pd.DataFrame(rfm_scaled, columns=rfm_data.columns, index=rfm_data.index)"
   ]
  },
  {
   "cell_type": "code",
   "execution_count": 21,
   "id": "5954db37",
   "metadata": {},
   "outputs": [
    {
     "data": {
      "text/html": [
       "<div>\n",
       "<style scoped>\n",
       "    .dataframe tbody tr th:only-of-type {\n",
       "        vertical-align: middle;\n",
       "    }\n",
       "\n",
       "    .dataframe tbody tr th {\n",
       "        vertical-align: top;\n",
       "    }\n",
       "\n",
       "    .dataframe thead th {\n",
       "        text-align: right;\n",
       "    }\n",
       "</style>\n",
       "<table border=\"1\" class=\"dataframe\">\n",
       "  <thead>\n",
       "    <tr style=\"text-align: right;\">\n",
       "      <th></th>\n",
       "      <th>Recency</th>\n",
       "      <th>Frequency</th>\n",
       "      <th>Monetary</th>\n",
       "    </tr>\n",
       "    <tr>\n",
       "      <th>Customer ID</th>\n",
       "      <th></th>\n",
       "      <th></th>\n",
       "      <th></th>\n",
       "    </tr>\n",
       "  </thead>\n",
       "  <tbody>\n",
       "    <tr>\n",
       "      <th>12346</th>\n",
       "      <td>0.578473</td>\n",
       "      <td>0.449494</td>\n",
       "      <td>5.198186</td>\n",
       "    </tr>\n",
       "    <tr>\n",
       "      <th>12347</th>\n",
       "      <td>-0.800021</td>\n",
       "      <td>0.060569</td>\n",
       "      <td>0.170859</td>\n",
       "    </tr>\n",
       "    <tr>\n",
       "      <th>12348</th>\n",
       "      <td>-0.626504</td>\n",
       "      <td>-0.095001</td>\n",
       "      <td>-0.065296</td>\n",
       "    </tr>\n",
       "    <tr>\n",
       "      <th>12349</th>\n",
       "      <td>-0.901239</td>\n",
       "      <td>-0.172786</td>\n",
       "      <td>0.102585</td>\n",
       "    </tr>\n",
       "    <tr>\n",
       "      <th>12350</th>\n",
       "      <td>0.501354</td>\n",
       "      <td>-0.406142</td>\n",
       "      <td>-0.182708</td>\n",
       "    </tr>\n",
       "  </tbody>\n",
       "</table>\n",
       "</div>"
      ],
      "text/plain": [
       "              Recency  Frequency  Monetary\n",
       "Customer ID                               \n",
       "12346        0.578473   0.449494  5.198186\n",
       "12347       -0.800021   0.060569  0.170859\n",
       "12348       -0.626504  -0.095001 -0.065296\n",
       "12349       -0.901239  -0.172786  0.102585\n",
       "12350        0.501354  -0.406142 -0.182708"
      ]
     },
     "execution_count": 21,
     "metadata": {},
     "output_type": "execute_result"
    }
   ],
   "source": [
    "rfm_scaled.head()"
   ]
  },
  {
   "cell_type": "code",
   "execution_count": 22,
   "id": "c7a54393",
   "metadata": {},
   "outputs": [
    {
     "data": {
      "text/html": [
       "<div>\n",
       "<style scoped>\n",
       "    .dataframe tbody tr th:only-of-type {\n",
       "        vertical-align: middle;\n",
       "    }\n",
       "\n",
       "    .dataframe tbody tr th {\n",
       "        vertical-align: top;\n",
       "    }\n",
       "\n",
       "    .dataframe thead th {\n",
       "        text-align: right;\n",
       "    }\n",
       "</style>\n",
       "<table border=\"1\" class=\"dataframe\">\n",
       "  <thead>\n",
       "    <tr style=\"text-align: right;\">\n",
       "      <th></th>\n",
       "      <th>Recency</th>\n",
       "      <th>Frequency</th>\n",
       "      <th>Monetary</th>\n",
       "    </tr>\n",
       "  </thead>\n",
       "  <tbody>\n",
       "    <tr>\n",
       "      <th>count</th>\n",
       "      <td>5.860000e+03</td>\n",
       "      <td>5.860000e+03</td>\n",
       "      <td>5.860000e+03</td>\n",
       "    </tr>\n",
       "    <tr>\n",
       "      <th>mean</th>\n",
       "      <td>2.788820e-17</td>\n",
       "      <td>2.546314e-17</td>\n",
       "      <td>6.062651e-18</td>\n",
       "    </tr>\n",
       "    <tr>\n",
       "      <th>std</th>\n",
       "      <td>1.000085e+00</td>\n",
       "      <td>1.000085e+00</td>\n",
       "      <td>1.000085e+00</td>\n",
       "    </tr>\n",
       "    <tr>\n",
       "      <th>min</th>\n",
       "      <td>-9.638978e-01</td>\n",
       "      <td>-4.061417e-01</td>\n",
       "      <td>-2.058073e-01</td>\n",
       "    </tr>\n",
       "    <tr>\n",
       "      <th>25%</th>\n",
       "      <td>-8.434001e-01</td>\n",
       "      <td>-4.061417e-01</td>\n",
       "      <td>-1.820049e-01</td>\n",
       "    </tr>\n",
       "    <tr>\n",
       "      <th>50%</th>\n",
       "      <td>-4.819069e-01</td>\n",
       "      <td>-2.505715e-01</td>\n",
       "      <td>-1.444398e-01</td>\n",
       "    </tr>\n",
       "    <tr>\n",
       "      <th>75%</th>\n",
       "      <td>8.435678e-01</td>\n",
       "      <td>6.056883e-02</td>\n",
       "      <td>-4.681333e-02</td>\n",
       "    </tr>\n",
       "    <tr>\n",
       "      <th>max</th>\n",
       "      <td>2.569095e+00</td>\n",
       "      <td>2.993004e+01</td>\n",
       "      <td>4.141684e+01</td>\n",
       "    </tr>\n",
       "  </tbody>\n",
       "</table>\n",
       "</div>"
      ],
      "text/plain": [
       "            Recency     Frequency      Monetary\n",
       "count  5.860000e+03  5.860000e+03  5.860000e+03\n",
       "mean   2.788820e-17  2.546314e-17  6.062651e-18\n",
       "std    1.000085e+00  1.000085e+00  1.000085e+00\n",
       "min   -9.638978e-01 -4.061417e-01 -2.058073e-01\n",
       "25%   -8.434001e-01 -4.061417e-01 -1.820049e-01\n",
       "50%   -4.819069e-01 -2.505715e-01 -1.444398e-01\n",
       "75%    8.435678e-01  6.056883e-02 -4.681333e-02\n",
       "max    2.569095e+00  2.993004e+01  4.141684e+01"
      ]
     },
     "execution_count": 22,
     "metadata": {},
     "output_type": "execute_result"
    }
   ],
   "source": [
    "rfm_scaled.describe()"
   ]
  },
  {
   "cell_type": "markdown",
   "id": "1ab584f9",
   "metadata": {},
   "source": [
    "## Determining the Optimal Number of Clusters"
   ]
  },
  {
   "cell_type": "markdown",
   "id": "9d958eaf",
   "metadata": {},
   "source": [
    "#### Elbow Method"
   ]
  },
  {
   "cell_type": "code",
   "execution_count": 23,
   "id": "f18bfe2b",
   "metadata": {},
   "outputs": [],
   "source": [
    "# Initialize variables\n",
    "inertia = []\n",
    "k_range = range(1, 11)  # Test clusters from 1 to 10"
   ]
  },
  {
   "cell_type": "code",
   "execution_count": 24,
   "id": "76ede398",
   "metadata": {},
   "outputs": [],
   "source": [
    "for k in k_range:\n",
    "    kmeans = MiniBatchKMeans(n_clusters=k, random_state=42, batch_size=1024)\n",
    "    kmeans.fit(rfm_scaled)\n",
    "    inertia.append(kmeans.inertia_)"
   ]
  },
  {
   "cell_type": "code",
   "execution_count": 25,
   "id": "66f1529f",
   "metadata": {},
   "outputs": [
    {
     "data": {
      "image/png": "[encoded data removed]",
      "text/plain": [
       "<Figure size 800x500 with 1 Axes>"
      ]
     },
     "metadata": {},
     "output_type": "display_data"
    }
   ],
   "source": [
    "# Plot the Elbow Curve\n",
    "plt.figure(figsize=(8, 5))\n",
    "plt.plot(k_range, inertia, marker='o')\n",
    "plt.xlabel('Number of Clusters (k)')\n",
    "plt.ylabel('Inertia')\n",
    "plt.title('Elbow Method for Optimal k')\n",
    "plt.show()"
   ]
  },
  {
   "cell_type": "markdown",
   "id": "8cb15efc-19cd-4a57-966d-5a677e92346a",
   "metadata": {},
   "source": [
    "#### Silhouette Score"
   ]
  },
  {
   "cell_type": "code",
   "execution_count": 27,
   "id": "abc5abb3",
   "metadata": {},
   "outputs": [],
   "source": [
    "# Initialize variables\n",
    "silhouette_scores = []"
   ]
  },
  {
   "cell_type": "code",
   "execution_count": 28,
   "id": "be47e0a1",
   "metadata": {},
   "outputs": [],
   "source": [
    "# Loop over different values of k (from 2 to 10)\n",
    "for k in range(2, 11):  # Silhouette score requires at least 2 clusters\n",
    "    kmeans = KMeans(n_clusters=k, random_state=42, n_init=10)\n",
    "    kmeans.fit(rfm_scaled)\n",
    "    score = silhouette_score(rfm_scaled, kmeans.labels_)\n",
    "    silhouette_scores.append(score)"
   ]
  },
  {
   "cell_type": "code",
   "execution_count": 29,
   "id": "2442552e-52a2-4bb1-b71c-704eb9ef40e0",
   "metadata": {},
   "outputs": [
    {
     "data": {
      "image/png": "[encoded data removed]",
      "text/plain": [
       "<Figure size 800x500 with 1 Axes>"
      ]
     },
     "metadata": {},
     "output_type": "display_data"
    }
   ],
   "source": [
    "# Plot the Silhouette Scores\n",
    "plt.figure(figsize=(8, 5))\n",
    "plt.plot(range(2, 11), silhouette_scores, marker='o')\n",
    "plt.xlabel('Number of Clusters (k)')\n",
    "plt.ylabel('Silhouette Score')\n",
    "plt.title('Silhouette Analysis for Optimal k')\n",
    "plt.show()"
   ]
  },
  {
   "cell_type": "markdown",
   "id": "cfa57a54-0a10-4c5a-aad0-9d12bf9df719",
   "metadata": {},
   "source": [
    "The number of clusters was determined using both the Elbow Method and the Silhouette Score. While the Elbow Method indicated a potential optimal point at k=4, the Silhouette Score demonstrated better cluster quality at k=5. This balance between interpretability and segmentation detail makes k=5 the most suitable choice for this analysis."
   ]
  },
  {
   "cell_type": "markdown",
   "id": "40a8a2df",
   "metadata": {},
   "source": [
    "## Applying K-Means Clustering: Segmenting Customers"
   ]
  },
  {
   "cell_type": "code",
   "execution_count": 54,
   "id": "b3866a78",
   "metadata": {},
   "outputs": [
    {
     "data": {
      "text/html": [
       "<style>#sk-container-id-7 {\n",
       "  /* Definition of color scheme common for light and dark mode */\n",
       "  --sklearn-color-text: black;\n",
       "  --sklearn-color-line: gray;\n",
       "  /* Definition of color scheme for unfitted estimators */\n",
       "  --sklearn-color-unfitted-level-0: #fff5e6;\n",
       "  --sklearn-color-unfitted-level-1: #f6e4d2;\n",
       "  --sklearn-color-unfitted-level-2: #ffe0b3;\n",
       "  --sklearn-color-unfitted-level-3: chocolate;\n",
       "  /* Definition of color scheme for fitted estimators */\n",
       "  --sklearn-color-fitted-level-0: #f0f8ff;\n",
       "  --sklearn-color-fitted-level-1: #d4ebff;\n",
       "  --sklearn-color-fitted-level-2: #b3dbfd;\n",
       "  --sklearn-color-fitted-level-3: cornflowerblue;\n",
       "\n",
       "  /* Specific color for light theme */\n",
       "  --sklearn-color-text-on-default-background: var(--sg-text-color, var(--theme-code-foreground, var(--jp-content-font-color1, black)));\n",
       "  --sklearn-color-background: var(--sg-background-color, var(--theme-background, var(--jp-layout-color0, white)));\n",
       "  --sklearn-color-border-box: var(--sg-text-color, var(--theme-code-foreground, var(--jp-content-font-color1, black)));\n",
       "  --sklearn-color-icon: #696969;\n",
       "\n",
       "  @media (prefers-color-scheme: dark) {\n",
       "    /* Redefinition of color scheme for dark theme */\n",
       "    --sklearn-color-text-on-default-background: var(--sg-text-color, var(--theme-code-foreground, var(--jp-content-font-color1, white)));\n",
       "    --sklearn-color-background: var(--sg-background-color, var(--theme-background, var(--jp-layout-color0, #111)));\n",
       "    --sklearn-color-border-box: var(--sg-text-color, var(--theme-code-foreground, var(--jp-content-font-color1, white)));\n",
       "    --sklearn-color-icon: #878787;\n",
       "  }\n",
       "}\n",
       "\n",
       "#sk-container-id-7 {\n",
       "  color: var(--sklearn-color-text);\n",
       "}\n",
       "\n",
       "#sk-container-id-7 pre {\n",
       "  padding: 0;\n",
       "}\n",
       "\n",
       "#sk-container-id-7 input.sk-hidden--visually {\n",
       "  border: 0;\n",
       "  clip: rect(1px 1px 1px 1px);\n",
       "  clip: rect(1px, 1px, 1px, 1px);\n",
       "  height: 1px;\n",
       "  margin: -1px;\n",
       "  overflow: hidden;\n",
       "  padding: 0;\n",
       "  position: absolute;\n",
       "  width: 1px;\n",
       "}\n",
       "\n",
       "#sk-container-id-7 div.sk-dashed-wrapped {\n",
       "  border: 1px dashed var(--sklearn-color-line);\n",
       "  margin: 0 0.4em 0.5em 0.4em;\n",
       "  box-sizing: border-box;\n",
       "  padding-bottom: 0.4em;\n",
       "  background-color: var(--sklearn-color-background);\n",
       "}\n",
       "\n",
       "#sk-container-id-7 div.sk-container {\n",
       "  /* jupyter's `normalize.less` sets `[hidden] { display: none; }`\n",
       "     but bootstrap.min.css set `[hidden] { display: none !important; }`\n",
       "     so we also need the `!important` here to be able to override the\n",
       "     default hidden behavior on the sphinx rendered scikit-learn.org.\n",
       "     See: https://github.com/scikit-learn/scikit-learn/issues/21755 */\n",
       "  display: inline-block !important;\n",
       "  position: relative;\n",
       "}\n",
       "\n",
       "#sk-container-id-7 div.sk-text-repr-fallback {\n",
       "  display: none;\n",
       "}\n",
       "\n",
       "div.sk-parallel-item,\n",
       "div.sk-serial,\n",
       "div.sk-item {\n",
       "  /* draw centered vertical line to link estimators */\n",
       "  background-image: linear-gradient(var(--sklearn-color-text-on-default-background), var(--sklearn-color-text-on-default-background));\n",
       "  background-size: 2px 100%;\n",
       "  background-repeat: no-repeat;\n",
       "  background-position: center center;\n",
       "}\n",
       "\n",
       "/* Parallel-specific style estimator block */\n",
       "\n",
       "#sk-container-id-7 div.sk-parallel-item::after {\n",
       "  content: \"\";\n",
       "  width: 100%;\n",
       "  border-bottom: 2px solid var(--sklearn-color-text-on-default-background);\n",
       "  flex-grow: 1;\n",
       "}\n",
       "\n",
       "#sk-container-id-7 div.sk-parallel {\n",
       "  display: flex;\n",
       "  align-items: stretch;\n",
       "  justify-content: center;\n",
       "  background-color: var(--sklearn-color-background);\n",
       "  position: relative;\n",
       "}\n",
       "\n",
       "#sk-container-id-7 div.sk-parallel-item {\n",
       "  display: flex;\n",
       "  flex-direction: column;\n",
       "}\n",
       "\n",
       "#sk-container-id-7 div.sk-parallel-item:first-child::after {\n",
       "  align-self: flex-end;\n",
       "  width: 50%;\n",
       "}\n",
       "\n",
       "#sk-container-id-7 div.sk-parallel-item:last-child::after {\n",
       "  align-self: flex-start;\n",
       "  width: 50%;\n",
       "}\n",
       "\n",
       "#sk-container-id-7 div.sk-parallel-item:only-child::after {\n",
       "  width: 0;\n",
       "}\n",
       "\n",
       "/* Serial-specific style estimator block */\n",
       "\n",
       "#sk-container-id-7 div.sk-serial {\n",
       "  display: flex;\n",
       "  flex-direction: column;\n",
       "  align-items: center;\n",
       "  background-color: var(--sklearn-color-background);\n",
       "  padding-right: 1em;\n",
       "  padding-left: 1em;\n",
       "}\n",
       "\n",
       "\n",
       "/* Toggleable style: style used for estimator/Pipeline/ColumnTransformer box that is\n",
       "clickable and can be expanded/collapsed.\n",
       "- Pipeline and ColumnTransformer use this feature and define the default style\n",
       "- Estimators will overwrite some part of the style using the `sk-estimator` class\n",
       "*/\n",
       "\n",
       "/* Pipeline and ColumnTransformer style (default) */\n",
       "\n",
       "#sk-container-id-7 div.sk-toggleable {\n",
       "  /* Default theme specific background. It is overwritten whether we have a\n",
       "  specific estimator or a Pipeline/ColumnTransformer */\n",
       "  background-color: var(--sklearn-color-background);\n",
       "}\n",
       "\n",
       "/* Toggleable label */\n",
       "#sk-container-id-7 label.sk-toggleable__label {\n",
       "  cursor: pointer;\n",
       "  display: block;\n",
       "  width: 100%;\n",
       "  margin-bottom: 0;\n",
       "  padding: 0.5em;\n",
       "  box-sizing: border-box;\n",
       "  text-align: center;\n",
       "}\n",
       "\n",
       "#sk-container-id-7 label.sk-toggleable__label-arrow:before {\n",
       "  /* Arrow on the left of the label */\n",
       "  content: \"▸\";\n",
       "  float: left;\n",
       "  margin-right: 0.25em;\n",
       "  color: var(--sklearn-color-icon);\n",
       "}\n",
       "\n",
       "#sk-container-id-7 label.sk-toggleable__label-arrow:hover:before {\n",
       "  color: var(--sklearn-color-text);\n",
       "}\n",
       "\n",
       "/* Toggleable content - dropdown */\n",
       "\n",
       "#sk-container-id-7 div.sk-toggleable__content {\n",
       "  max-height: 0;\n",
       "  max-width: 0;\n",
       "  overflow: hidden;\n",
       "  text-align: left;\n",
       "  /* unfitted */\n",
       "  background-color: var(--sklearn-color-unfitted-level-0);\n",
       "}\n",
       "\n",
       "#sk-container-id-7 div.sk-toggleable__content.fitted {\n",
       "  /* fitted */\n",
       "  background-color: var(--sklearn-color-fitted-level-0);\n",
       "}\n",
       "\n",
       "#sk-container-id-7 div.sk-toggleable__content pre {\n",
       "  margin: 0.2em;\n",
       "  border-radius: 0.25em;\n",
       "  color: var(--sklearn-color-text);\n",
       "  /* unfitted */\n",
       "  background-color: var(--sklearn-color-unfitted-level-0);\n",
       "}\n",
       "\n",
       "#sk-container-id-7 div.sk-toggleable__content.fitted pre {\n",
       "  /* unfitted */\n",
       "  background-color: var(--sklearn-color-fitted-level-0);\n",
       "}\n",
       "\n",
       "#sk-container-id-7 input.sk-toggleable__control:checked~div.sk-toggleable__content {\n",
       "  /* Expand drop-down */\n",
       "  max-height: 200px;\n",
       "  max-width: 100%;\n",
       "  overflow: auto;\n",
       "}\n",
       "\n",
       "#sk-container-id-7 input.sk-toggleable__control:checked~label.sk-toggleable__label-arrow:before {\n",
       "  content: \"▾\";\n",
       "}\n",
       "\n",
       "/* Pipeline/ColumnTransformer-specific style */\n",
       "\n",
       "#sk-container-id-7 div.sk-label input.sk-toggleable__control:checked~label.sk-toggleable__label {\n",
       "  color: var(--sklearn-color-text);\n",
       "  background-color: var(--sklearn-color-unfitted-level-2);\n",
       "}\n",
       "\n",
       "#sk-container-id-7 div.sk-label.fitted input.sk-toggleable__control:checked~label.sk-toggleable__label {\n",
       "  background-color: var(--sklearn-color-fitted-level-2);\n",
       "}\n",
       "\n",
       "/* Estimator-specific style */\n",
       "\n",
       "/* Colorize estimator box */\n",
       "#sk-container-id-7 div.sk-estimator input.sk-toggleable__control:checked~label.sk-toggleable__label {\n",
       "  /* unfitted */\n",
       "  background-color: var(--sklearn-color-unfitted-level-2);\n",
       "}\n",
       "\n",
       "#sk-container-id-7 div.sk-estimator.fitted input.sk-toggleable__control:checked~label.sk-toggleable__label {\n",
       "  /* fitted */\n",
       "  background-color: var(--sklearn-color-fitted-level-2);\n",
       "}\n",
       "\n",
       "#sk-container-id-7 div.sk-label label.sk-toggleable__label,\n",
       "#sk-container-id-7 div.sk-label label {\n",
       "  /* The background is the default theme color */\n",
       "  color: var(--sklearn-color-text-on-default-background);\n",
       "}\n",
       "\n",
       "/* On hover, darken the color of the background */\n",
       "#sk-container-id-7 div.sk-label:hover label.sk-toggleable__label {\n",
       "  color: var(--sklearn-color-text);\n",
       "  background-color: var(--sklearn-color-unfitted-level-2);\n",
       "}\n",
       "\n",
       "/* Label box, darken color on hover, fitted */\n",
       "#sk-container-id-7 div.sk-label.fitted:hover label.sk-toggleable__label.fitted {\n",
       "  color: var(--sklearn-color-text);\n",
       "  background-color: var(--sklearn-color-fitted-level-2);\n",
       "}\n",
       "\n",
       "/* Estimator label */\n",
       "\n",
       "#sk-container-id-7 div.sk-label label {\n",
       "  font-family: monospace;\n",
       "  font-weight: bold;\n",
       "  display: inline-block;\n",
       "  line-height: 1.2em;\n",
       "}\n",
       "\n",
       "#sk-container-id-7 div.sk-label-container {\n",
       "  text-align: center;\n",
       "}\n",
       "\n",
       "/* Estimator-specific */\n",
       "#sk-container-id-7 div.sk-estimator {\n",
       "  font-family: monospace;\n",
       "  border: 1px dotted var(--sklearn-color-border-box);\n",
       "  border-radius: 0.25em;\n",
       "  box-sizing: border-box;\n",
       "  margin-bottom: 0.5em;\n",
       "  /* unfitted */\n",
       "  background-color: var(--sklearn-color-unfitted-level-0);\n",
       "}\n",
       "\n",
       "#sk-container-id-7 div.sk-estimator.fitted {\n",
       "  /* fitted */\n",
       "  background-color: var(--sklearn-color-fitted-level-0);\n",
       "}\n",
       "\n",
       "/* on hover */\n",
       "#sk-container-id-7 div.sk-estimator:hover {\n",
       "  /* unfitted */\n",
       "  background-color: var(--sklearn-color-unfitted-level-2);\n",
       "}\n",
       "\n",
       "#sk-container-id-7 div.sk-estimator.fitted:hover {\n",
       "  /* fitted */\n",
       "  background-color: var(--sklearn-color-fitted-level-2);\n",
       "}\n",
       "\n",
       "/* Specification for estimator info (e.g. \"i\" and \"?\") */\n",
       "\n",
       "/* Common style for \"i\" and \"?\" */\n",
       "\n",
       ".sk-estimator-doc-link,\n",
       "a:link.sk-estimator-doc-link,\n",
       "a:visited.sk-estimator-doc-link {\n",
       "  float: right;\n",
       "  font-size: smaller;\n",
       "  line-height: 1em;\n",
       "  font-family: monospace;\n",
       "  background-color: var(--sklearn-color-background);\n",
       "  border-radius: 1em;\n",
       "  height: 1em;\n",
       "  width: 1em;\n",
       "  text-decoration: none !important;\n",
       "  margin-left: 1ex;\n",
       "  /* unfitted */\n",
       "  border: var(--sklearn-color-unfitted-level-1) 1pt solid;\n",
       "  color: var(--sklearn-color-unfitted-level-1);\n",
       "}\n",
       "\n",
       ".sk-estimator-doc-link.fitted,\n",
       "a:link.sk-estimator-doc-link.fitted,\n",
       "a:visited.sk-estimator-doc-link.fitted {\n",
       "  /* fitted */\n",
       "  border: var(--sklearn-color-fitted-level-1) 1pt solid;\n",
       "  color: var(--sklearn-color-fitted-level-1);\n",
       "}\n",
       "\n",
       "/* On hover */\n",
       "div.sk-estimator:hover .sk-estimator-doc-link:hover,\n",
       ".sk-estimator-doc-link:hover,\n",
       "div.sk-label-container:hover .sk-estimator-doc-link:hover,\n",
       ".sk-estimator-doc-link:hover {\n",
       "  /* unfitted */\n",
       "  background-color: var(--sklearn-color-unfitted-level-3);\n",
       "  color: var(--sklearn-color-background);\n",
       "  text-decoration: none;\n",
       "}\n",
       "\n",
       "div.sk-estimator.fitted:hover .sk-estimator-doc-link.fitted:hover,\n",
       ".sk-estimator-doc-link.fitted:hover,\n",
       "div.sk-label-container:hover .sk-estimator-doc-link.fitted:hover,\n",
       ".sk-estimator-doc-link.fitted:hover {\n",
       "  /* fitted */\n",
       "  background-color: var(--sklearn-color-fitted-level-3);\n",
       "  color: var(--sklearn-color-background);\n",
       "  text-decoration: none;\n",
       "}\n",
       "\n",
       "/* Span, style for the box shown on hovering the info icon */\n",
       ".sk-estimator-doc-link span {\n",
       "  display: none;\n",
       "  z-index: 9999;\n",
       "  position: relative;\n",
       "  font-weight: normal;\n",
       "  right: .2ex;\n",
       "  padding: .5ex;\n",
       "  margin: .5ex;\n",
       "  width: min-content;\n",
       "  min-width: 20ex;\n",
       "  max-width: 50ex;\n",
       "  color: var(--sklearn-color-text);\n",
       "  box-shadow: 2pt 2pt 4pt #999;\n",
       "  /* unfitted */\n",
       "  background: var(--sklearn-color-unfitted-level-0);\n",
       "  border: .5pt solid var(--sklearn-color-unfitted-level-3);\n",
       "}\n",
       "\n",
       ".sk-estimator-doc-link.fitted span {\n",
       "  /* fitted */\n",
       "  background: var(--sklearn-color-fitted-level-0);\n",
       "  border: var(--sklearn-color-fitted-level-3);\n",
       "}\n",
       "\n",
       ".sk-estimator-doc-link:hover span {\n",
       "  display: block;\n",
       "}\n",
       "\n",
       "/* \"?\"-specific style due to the `<a>` HTML tag */\n",
       "\n",
       "#sk-container-id-7 a.estimator_doc_link {\n",
       "  float: right;\n",
       "  font-size: 1rem;\n",
       "  line-height: 1em;\n",
       "  font-family: monospace;\n",
       "  background-color: var(--sklearn-color-background);\n",
       "  border-radius: 1rem;\n",
       "  height: 1rem;\n",
       "  width: 1rem;\n",
       "  text-decoration: none;\n",
       "  /* unfitted */\n",
       "  color: var(--sklearn-color-unfitted-level-1);\n",
       "  border: var(--sklearn-color-unfitted-level-1) 1pt solid;\n",
       "}\n",
       "\n",
       "#sk-container-id-7 a.estimator_doc_link.fitted {\n",
       "  /* fitted */\n",
       "  border: var(--sklearn-color-fitted-level-1) 1pt solid;\n",
       "  color: var(--sklearn-color-fitted-level-1);\n",
       "}\n",
       "\n",
       "/* On hover */\n",
       "#sk-container-id-7 a.estimator_doc_link:hover {\n",
       "  /* unfitted */\n",
       "  background-color: var(--sklearn-color-unfitted-level-3);\n",
       "  color: var(--sklearn-color-background);\n",
       "  text-decoration: none;\n",
       "}\n",
       "\n",
       "#sk-container-id-7 a.estimator_doc_link.fitted:hover {\n",
       "  /* fitted */\n",
       "  background-color: var(--sklearn-color-fitted-level-3);\n",
       "}\n",
       "</style><div id=\"sk-container-id-7\" class=\"sk-top-container\"><div class=\"sk-text-repr-fallback\"><pre>KMeans(n_clusters=5, n_init=10, random_state=42)</pre><b>In a Jupyter environment, please rerun this cell to show the HTML representation or trust the notebook. <br />On GitHub, the HTML representation is unable to render, please try loading this page with nbviewer.org.</b></div><div class=\"sk-container\" hidden><div class=\"sk-item\"><div class=\"sk-estimator fitted sk-toggleable\"><input class=\"sk-toggleable__control sk-hidden--visually\" id=\"sk-estimator-id-7\" type=\"checkbox\" checked><label for=\"sk-estimator-id-7\" class=\"sk-toggleable__label fitted sk-toggleable__label-arrow fitted\">&nbsp;&nbsp;KMeans<a class=\"sk-estimator-doc-link fitted\" rel=\"noreferrer\" target=\"_blank\" href=\"https://scikit-learn.org/1.5/modules/generated/sklearn.cluster.KMeans.html\">?<span>Documentation for KMeans</span></a><span class=\"sk-estimator-doc-link fitted\">i<span>Fitted</span></span></label><div class=\"sk-toggleable__content fitted\"><pre>KMeans(n_clusters=5, n_init=10, random_state=42)</pre></div> </div></div></div></div>"
      ],
      "text/plain": [
       "KMeans(n_clusters=5, n_init=10, random_state=42)"
      ]
     },
     "execution_count": 54,
     "metadata": {},
     "output_type": "execute_result"
    }
   ],
   "source": [
    "# Train the K-Means model with k=5\n",
    "kmeans = KMeans(n_clusters=5, random_state=42, n_init=10)\n",
    "kmeans.fit(rfm_scaled)"
   ]
  },
  {
   "cell_type": "code",
   "execution_count": 55,
   "id": "3c2dfb71",
   "metadata": {},
   "outputs": [],
   "source": [
    "# Assign the clusters to each customer\n",
    "rfm_data['Cluster'] = kmeans.labels_"
   ]
  },
  {
   "cell_type": "code",
   "execution_count": 56,
   "id": "1daeb1cb",
   "metadata": {},
   "outputs": [
    {
     "name": "stdout",
     "output_type": "stream",
     "text": [
      "             Recency  Frequency  Monetary  Cluster\n",
      "Customer ID                                       \n",
      "12346            320         12  77556.46        4\n",
      "12347             34          7   5408.50        1\n",
      "12348             70          5   2019.40        1\n",
      "12349             13          4   4428.69        1\n",
      "12350            304          1    334.40        0\n"
     ]
    }
   ],
   "source": [
    "# View the first rows of the clustered data\n",
    "print(rfm_data.head())"
   ]
  },
  {
   "cell_type": "code",
   "execution_count": 57,
   "id": "76f39d1b-a8d7-494d-a9b3-bb2793cb43bf",
   "metadata": {},
   "outputs": [
    {
     "name": "stdout",
     "output_type": "stream",
     "text": [
      "Cluster\n",
      "1    3530\n",
      "0    1914\n",
      "4     389\n",
      "3      23\n",
      "2       4\n",
      "Name: count, dtype: int64\n"
     ]
    }
   ],
   "source": [
    "# Check the distribution of customers across clusters\n",
    "print(rfm_data['Cluster'].value_counts())"
   ]
  },
  {
   "cell_type": "code",
   "execution_count": 58,
   "id": "4752ffa5-90fd-4ebb-a7fd-0a1276770d21",
   "metadata": {},
   "outputs": [
    {
     "name": "stdout",
     "output_type": "stream",
     "text": [
      "            Recency   Frequency       Monetary\n",
      "Cluster                                       \n",
      "0        466.751829    2.176594     755.753178\n",
      "1         75.454391    5.035411    1859.599006\n",
      "2          5.750000  209.250000  429456.910000\n",
      "3         22.347826  123.652174   96557.848348\n",
      "4         29.933162   27.853470   13818.452090\n"
     ]
    }
   ],
   "source": [
    "cluster_summary = rfm_data.groupby('Cluster').mean()\n",
    "print(cluster_summary)"
   ]
  },
  {
   "cell_type": "code",
   "execution_count": 69,
   "id": "85a105d3-287f-4435-96a0-08ec99fb6e46",
   "metadata": {},
   "outputs": [],
   "source": [
    "# Extract centroids from the trained KMeans model\n",
    "centroids = kmeans.cluster_centers_"
   ]
  },
  {
   "cell_type": "code",
   "execution_count": 70,
   "id": "c86a72be-18ad-40b2-94d3-07668af23ebe",
   "metadata": {},
   "outputs": [],
   "source": [
    "# Convert centroids back to the original scale for interpretability (optional)\n",
    "centroids_original = centroids * rfm_scaled.std(axis=0).values + rfm_scaled.mean(axis=0).values"
   ]
  },
  {
   "cell_type": "code",
   "execution_count": 74,
   "id": "9ba6baa8-fefd-440a-acc1-fd21be2573db",
   "metadata": {},
   "outputs": [],
   "source": [
    "# Convert centroids to a DataFrame with the same column names\n",
    "centroids_df = pd.DataFrame(centroids, columns=rfm_scaled.columns)"
   ]
  },
  {
   "cell_type": "code",
   "execution_count": 75,
   "id": "e7de1710-aebd-4aa6-a1a6-359d7b7c04dd",
   "metadata": {},
   "outputs": [],
   "source": [
    "# Apply PCA to the centroids\n",
    "centroids_2d = pca.transform(centroids_df)"
   ]
  },
  {
   "cell_type": "markdown",
   "id": "7b86265c-196e-4b71-a7fd-0017725897c3",
   "metadata": {},
   "source": [
    "#### Charts"
   ]
  },
  {
   "cell_type": "code",
   "execution_count": 76,
   "id": "49822dfc-e4ca-47f1-8f75-b89055597d01",
   "metadata": {},
   "outputs": [
    {
     "data": {
      "image/png": "[encoded data removed]",
      "text/plain": [
       "<Figure size 1000x600 with 1 Axes>"
      ]
     },
     "metadata": {},
     "output_type": "display_data"
    }
   ],
   "source": [
    "# Create a bar chart for the centroids\n",
    "fig, ax = plt.subplots(figsize=(10, 6))\n",
    "index = np.arange(len(rfm_data.columns[:-1]))  # Exclude the 'Cluster' column\n",
    "bar_width = 0.15\n",
    "\n",
    "for i in range(len(centroids)):\n",
    "    ax.bar(\n",
    "        index + i * bar_width, \n",
    "        centroids[i], \n",
    "        bar_width, \n",
    "        label=f'Cluster {i}'\n",
    "    )\n",
    "\n",
    "# Add labels and title\n",
    "ax.set_xlabel('RFM Metrics')\n",
    "ax.set_ylabel('Centroid Value (Normalized Scale)')\n",
    "ax.set_title('Centroids of K-Means Clusters (k=5)')\n",
    "ax.set_xticks(index + bar_width * (len(centroids) - 1) / 2)\n",
    "ax.set_xticklabels(['Recency', 'Frequency', 'Monetary'])\n",
    "ax.legend(title=\"Clusters\")\n",
    "\n",
    "# Display the chart\n",
    "plt.tight_layout()\n",
    "plt.show()"
   ]
  },
  {
   "cell_type": "code",
   "execution_count": 77,
   "id": "21091001-5c2d-4e26-92d1-abdb6579f423",
   "metadata": {},
   "outputs": [
    {
     "data": {
      "image/png": "[encoded data removed]",
      "text/plain": [
       "<Figure size 1000x600 with 2 Axes>"
      ]
     },
     "metadata": {},
     "output_type": "display_data"
    }
   ],
   "source": [
    "# Plot the clusters\n",
    "fig, ax = plt.subplots(figsize=(10, 6))\n",
    "scatter = ax.scatter(\n",
    "    rfm_2d[:, 0], rfm_2d[:, 1], \n",
    "    c=rfm_data['Cluster'], cmap='tab10', alpha=0.7, label='Customers'\n",
    ")\n",
    "\n",
    "# Plot the centroids\n",
    "ax.scatter(\n",
    "    centroids_2d[:, 0], centroids_2d[:, 1], \n",
    "    c='red', marker='X', s=200, label='Centroids'\n",
    ")\n",
    "\n",
    "# Add labels and legend\n",
    "ax.set_title('K-Means Clustering with Centroids')\n",
    "ax.set_xlabel('PCA Dimension 1')\n",
    "ax.set_ylabel('PCA Dimension 2')\n",
    "ax.legend(title='Legend')\n",
    "plt.colorbar(scatter, label='Cluster')\n",
    "plt.show()"
   ]
  },
  {
   "cell_type": "code",
   "execution_count": 78,
   "id": "1be6955f-681f-43b3-814d-74c910a5080b",
   "metadata": {},
   "outputs": [
    {
     "data": {
      "text/plain": [
       "count    5860.000000\n",
       "mean      199.982594\n",
       "std       207.490532\n",
       "min         0.000000\n",
       "25%        25.000000\n",
       "50%       100.000000\n",
       "75%       375.000000\n",
       "max       733.000000\n",
       "Name: Recency, dtype: float64"
      ]
     },
     "execution_count": 78,
     "metadata": {},
     "output_type": "execute_result"
    }
   ],
   "source": [
    "rfm_data['Recency'].describe()"
   ]
  },
  {
   "cell_type": "markdown",
   "id": "4a8fe057",
   "metadata": {},
   "source": [
    "## Analyzing Clusters: Generating Insights"
   ]
  },
  {
   "cell_type": "code",
   "execution_count": 81,
   "id": "7a7bda31",
   "metadata": {},
   "outputs": [
    {
     "name": "stdout",
     "output_type": "stream",
     "text": [
      "            Recency   Frequency       Monetary\n",
      "Cluster                                       \n",
      "0        466.751829    2.176594     755.753178\n",
      "1         75.454391    5.035411    1859.599006\n",
      "2          5.750000  209.250000  429456.910000\n",
      "3         22.347826  123.652174   96557.848348\n",
      "4         29.933162   27.853470   13818.452090\n"
     ]
    }
   ],
   "source": [
    "# Cluster summary\n",
    "cluster_summary = rfm_data.groupby('Cluster').mean()\n",
    "print(cluster_summary)"
   ]
  },
  {
   "cell_type": "code",
   "execution_count": 82,
   "id": "4625c5c5",
   "metadata": {},
   "outputs": [
    {
     "data": {
      "text/plain": [
       "<Figure size 1000x600 with 0 Axes>"
      ]
     },
     "metadata": {},
     "output_type": "display_data"
    },
    {
     "data": {
      "image/png": "[encoded data removed]",
      "text/plain": [
       "<Figure size 640x480 with 1 Axes>"
      ]
     },
     "metadata": {},
     "output_type": "display_data"
    }
   ],
   "source": [
    "# Boxplot for Monetary by Cluster\n",
    "plt.figure(figsize=(10, 6))\n",
    "rfm_data.boxplot(column='Monetary', by='Cluster', grid=False)\n",
    "plt.title('Monetary Distribution by Cluster')\n",
    "plt.suptitle('')  # Remove default title\n",
    "plt.xlabel('Cluster')\n",
    "plt.ylabel('Monetary')\n",
    "plt.show()"
   ]
  },
  {
   "cell_type": "markdown",
   "id": "47ba1529-4b0e-4810-a005-15b9139c230e",
   "metadata": {},
   "source": [
    "Cluster 0: **Dormant Customers**\n",
    "\n",
    "* Recency: Very high (466 days), meaning they have not purchased recently.\n",
    "* Frequency: Low, with an average of 2 purchases.\n",
    "* Monetary: Low spending (755.75).\n",
    "* Customers: This is the second-largest group with 1914 customers."
   ]
  },
  {
   "cell_type": "markdown",
   "id": "fe66de56-e654-45db-a0f1-05e3190300f7",
   "metadata": {},
   "source": [
    "Cluster 1: **Average Customers**\n",
    "\n",
    "* Recency: Moderate (75 days).\n",
    "* Frequency: Moderate (5 purchases).\n",
    "* Monetary: Medium spending (1859.60).\n",
    "* Customers: The largest group with 3530 customers."
   ]
  },
  {
   "cell_type": "markdown",
   "id": "1fa5eac9-11d6-4575-869e-170ec5a3fb0b",
   "metadata": {},
   "source": [
    "Cluster 2: **VIP Customers**\n",
    "\n",
    "* Recency: Very recent (5.75 days).\n",
    "* Frequency: Extremely high (209 purchases).\n",
    "* Monetary: Exceptionally high spending (429,456.91).\n",
    "* Customers: Very few (4 customers)."
   ]
  },
  {
   "cell_type": "markdown",
   "id": "b7c319a0-cae3-4d3f-bdaf-62bc43845f84",
   "metadata": {},
   "source": [
    "Cluster 3: **Loyal Customers**\n",
    "\n",
    "* Recency: Very recent (22.35 days).\n",
    "* Frequency: High (123 purchases).\n",
    "* Monetary: Significant spending (96,557.85).\n",
    "* Customers: A small group (23 customers)."
   ]
  },
  {
   "cell_type": "markdown",
   "id": "50fdafb3-310f-40a8-a33c-5516bf2296b0",
   "metadata": {},
   "source": [
    "Cluster 4: **High-Value Customers**\n",
    "\n",
    "* Recency: Recent (29.93 days).\n",
    "* Frequency: High (27 purchases).\n",
    "* Monetary: High spending (13,818.45).\n",
    "* Customers: 389 customers."
   ]
  },
  {
   "cell_type": "markdown",
   "id": "5659f2fe-5237-47c2-9531-eb5682ee0f95",
   "metadata": {},
   "source": [
    "**General Insights**\n",
    "\n",
    "* Most Important Clusters:\n",
    "Cluster 2 (VIP) and Cluster 3 (Loyal) are the most valuable due to their high frequency and spending. They represent a small but critical proportion of the total.\n",
    "\n",
    "* Less Active Clusters:\n",
    "Cluster 0 (Dormant) has the greatest potential for reactivation, given the large number of inactive customers.\n",
    "\n",
    "\n",
    "* Segmentation Strategies:\n",
    "Design specific campaigns for each cluster based on their key characteristics."
   ]
  },
  {
   "cell_type": "markdown",
   "id": "07968ccf",
   "metadata": {},
   "source": [
    "## Business Recommendations: Actionable Insights for the Retailer"
   ]
  },
  {
   "cell_type": "markdown",
   "id": "515ea366-8238-47a9-a89c-31107a4248ea",
   "metadata": {},
   "source": [
    "**Dormant Customers (Cluster 0)**\n",
    "\n",
    "* Insight: These customers haven't purchased in a long time (466 days on average) and have low engagement (frequency of 2).\n",
    "* Actionable Steps:\n",
    "    * Reactivation Campaigns:\n",
    "        * Offer targeted discounts or limited-time offers to encourage them to make a purchase.\n",
    "        * Send personalized emails or SMS with messages like \"We miss you! Enjoy 20% off on your next order.\"\n",
    "* Win-Back Strategies:\n",
    "    * Highlight new products or services they haven’t seen yet.\n",
    "    * Use feedback forms to understand why they stopped purchasing."
   ]
  },
  {
   "cell_type": "markdown",
   "id": "910964d5-9dbf-4de5-b420-6431fd7a8eef",
   "metadata": {},
   "source": [
    "**Average Customers (Cluster 1)** \n",
    "\n",
    "* Insight: This is the largest segment (3530 customers). They purchase moderately and are relatively active.\n",
    "* Actionable Steps:\n",
    "    * Retention Campaigns:\n",
    "        * Provide loyalty points or rewards for consistent purchases.\n",
    "        * Create a subscription program to encourage regular spending.\n",
    "    * Personalized Recommendations:\n",
    "        * Use their past purchase history to suggest complementary or frequently bought items.\n",
    "        * Offer tiered discounts based on spending thresholds (e.g., “Spend $50 to get $10 off”)."
   ]
  },
  {
   "cell_type": "markdown",
   "id": "4b77eb72-7fdd-4b10-89bc-d887b741774e",
   "metadata": {},
   "source": [
    "**VIP Customers (Cluster 2)**\n",
    "* Insight: These 4 customers are the most valuable. They buy frequently (209 purchases) and spend extraordinarily high amounts.\n",
    "* Actionable Steps:\n",
    "    * Exclusive Benefits:\n",
    "        * Assign dedicated account managers or customer success representatives.\n",
    "        * Provide early access to new products, exclusive sales, or VIP-only events.\n",
    "    * Recognition:\n",
    "        * Celebrate their loyalty with personalized thank-you messages or gifts.\n",
    "        * Mention them in newsletters or events (with their consent) to strengthen brand connection."
   ]
  },
  {
   "cell_type": "markdown",
   "id": "08c28b9b-fcbd-47ff-a212-ab2342e3d878",
   "metadata": {},
   "source": [
    "**Loyal Customers (Cluster 3)**\n",
    "* Insight: With 23 customers, they are frequent buyers (123 purchases) with significant spending. They exhibit high brand loyalty.\n",
    "* Actionable Steps:\n",
    "    * Enhance Loyalty:\n",
    "        * Offer multi-tiered loyalty programs with additional perks for frequent buyers.\n",
    "        * Provide free shipping, exclusive offers, or bonus loyalty points for referrals.\n",
    "    * Upsell and Cross-Sell:\n",
    "        * Introduce premium product bundles or services they might enjoy based on their preferences.\n",
    "        * Incentivize them to increase spending by highlighting value bundles."
   ]
  },
  {
   "cell_type": "markdown",
   "id": "12deff3d-f861-47e3-82fe-91460c1d5da8",
   "metadata": {},
   "source": [
    "**High-Value Customers (Cluster 4)**\n",
    "* Insight: These 389 customers are active, with a reasonable purchase frequency and relatively high spending.\n",
    "* Actionable Steps:\n",
    "    * Engagement Campaigns:\n",
    "        * Encourage them to become even more engaged by introducing milestone rewards for frequent purchases.\n",
    "        * Send personalized reminders about seasonal sales or new arrivals.\n",
    "    * Feedback Loop:\n",
    "        * Collect feedback to understand how to elevate their experience further.\n",
    "        * Use their insights to improve services or expand product offerings."
   ]
  },
  {
   "cell_type": "markdown",
   "id": "60ddbdaa-3f93-400b-a936-6dd755aa4936",
   "metadata": {},
   "source": [
    "## General Recommendations\n",
    "1. **Customer Segmentation Marketing:**\n",
    "    * Create tailored marketing campaigns targeting each segment's specific needs and behaviors.\n",
    "    * Use email automation tools to personalize communication for each cluster.\n",
    "2. **Focus on Retention:**\n",
    "    * Invest in retaining clusters with high spending (Clusters 2, 3, and 4).\n",
    "    * Implement post-purchase follow-ups and surveys to understand customer satisfaction.\n",
    "3. **Data-Driven Decisions:**\n",
    "    * Continuously monitor the performance of each segment and adapt strategies based on results.\n",
    "    * Use predictive analytics to identify customers likely to churn and act proactively.\n",
    "4. **Invest in Customer Relationships:**\n",
    "    * Strengthen customer relationships across all clusters by fostering trust and delivering excellent service.\n",
    "    * Regularly review and refine loyalty and rewards programs to ensure they remain attractive.\n",
    "# "
   ]
  },
  {
   "cell_type": "markdown",
   "id": "25b5ca8c-9f77-4d32-ab65-819d5d13f834",
   "metadata": {},
   "source": [
    "## Complementary Analysis."
   ]
  },
  {
   "cell_type": "markdown",
   "id": "4ded2a7e-00b5-4ebb-90a0-8fe0c1bbdc94",
   "metadata": {},
   "source": [
    "### TOP 20 CUSTOMERS"
   ]
  },
  {
   "cell_type": "code",
   "execution_count": 97,
   "id": "70c0ecfc-c683-405d-8d07-ca910d116cea",
   "metadata": {},
   "outputs": [],
   "source": [
    "# Step 1: Identify the Top 20 customers based on Monetary value\n",
    "top_20_customers = rfm_data[['Monetary']].sort_values(by='Monetary', ascending=False).head(20)"
   ]
  },
  {
   "cell_type": "code",
   "execution_count": 98,
   "id": "556676ff-4392-4650-a259-28a0c4712ab4",
   "metadata": {},
   "outputs": [],
   "source": [
    "# Step 2: Add customer identifiers for visualization\n",
    "top_20_customers['Customer ID'] = top_20_customers.index.astype(str)"
   ]
  },
  {
   "cell_type": "code",
   "execution_count": 134,
   "id": "a302e65a-a53a-451f-bbde-919499584866",
   "metadata": {},
   "outputs": [
    {
     "data": {
      "image/png": "[encoded data removed]",
      "text/plain": [
       "<Figure size 1200x800 with 1 Axes>"
      ]
     },
     "metadata": {},
     "output_type": "display_data"
    }
   ],
   "source": [
    "# Step 3: Plot a horizontal bar chart with data labels\n",
    "plt.figure(figsize=(12, 8))\n",
    "\n",
    "bars = plt.barh(\n",
    "    top_20_customers['Customer ID'], \n",
    "    top_20_customers['Monetary'], \n",
    "    color='skyblue', \n",
    "    alpha=0.9\n",
    ")\n",
    "\n",
    "# Add data labels to the bars\n",
    "for bar in bars:\n",
    "    plt.text(\n",
    "        bar.get_width(), \n",
    "        bar.get_y() + bar.get_height() / 2, \n",
    "        f'{bar.get_width():,.0f} $',  # Format with commas for thousands and append $\n",
    "        va='center', \n",
    "        fontsize=10\n",
    "    )\n",
    "\n",
    "# Add title and labels\n",
    "plt.title('Top 20 Customers by Monetary Value', fontsize=14)\n",
    "plt.xlabel('Monetary Value', fontsize=12)\n",
    "plt.ylabel('Customer ID', fontsize=12)\n",
    "\n",
    "# Invert the y-axis for better readability\n",
    "plt.gca().invert_yaxis()\n",
    "\n",
    "# Add grid for readability\n",
    "plt.grid(axis='x', linestyle='--', alpha=0.7)\n",
    "\n",
    "plt.tight_layout()\n",
    "plt.show()"
   ]
  },
  {
   "cell_type": "code",
   "execution_count": 110,
   "id": "2e750c73-9e02-4615-a542-4e13c5a76893",
   "metadata": {},
   "outputs": [],
   "source": [
    "porcentual_monetary_top_20 = round(((top_20_customers['Monetary'].sum() / rfm_data['Monetary'].sum())*100),2)"
   ]
  },
  {
   "cell_type": "code",
   "execution_count": 112,
   "id": "e850370b-2008-4405-a947-c33fc96f959d",
   "metadata": {},
   "outputs": [
    {
     "name": "stdout",
     "output_type": "stream",
     "text": [
      "The TOP 20 consumers represent 21.43% of the total monetary\n"
     ]
    }
   ],
   "source": [
    "print ( f'The TOP 20 consumers represent {porcentual_monetary_top_20}% of the total monetary')"
   ]
  },
  {
   "cell_type": "markdown",
   "id": "c6d64a2e-0683-424c-ae10-d435bcfc67dc",
   "metadata": {},
   "source": [
    "### Pareto Analysis: Identifying Key Customers Driving Revenue"
   ]
  },
  {
   "cell_type": "code",
   "execution_count": 101,
   "id": "abead9da-aef4-4787-a643-3817d51a0087",
   "metadata": {},
   "outputs": [],
   "source": [
    "# Step 1: Calculate total monetary value\n",
    "total_monetary = rfm_data['Monetary'].sum()"
   ]
  },
  {
   "cell_type": "code",
   "execution_count": 114,
   "id": "509796a4-7ed4-4ef0-b9bc-a444ba392ac0",
   "metadata": {},
   "outputs": [],
   "source": [
    "# Step 2: Calculate cumulative monetary contribution for each customer\n",
    "rfm_data_sorted = rfm_data[['Monetary']].sort_values(by='Monetary', ascending=False)\n",
    "rfm_data_sorted['Cumulative Monetary'] = rfm_data_sorted['Monetary'].cumsum()"
   ]
  },
  {
   "cell_type": "code",
   "execution_count": 115,
   "id": "19d42b9a-941e-4a56-a72e-c7f13628e1a1",
   "metadata": {},
   "outputs": [],
   "source": [
    "# Step 3: Calculate cumulative percentage contribution\n",
    "rfm_data_sorted['Cumulative Percentage'] = (rfm_data_sorted['Cumulative Monetary'] / total_monetary) * 100"
   ]
  },
  {
   "cell_type": "code",
   "execution_count": 116,
   "id": "06275028-85e6-4ce7-8d42-34a69e60a15f",
   "metadata": {},
   "outputs": [],
   "source": [
    "# Step 4: Identify the threshold for top 20% customers\n",
    "pareto_threshold = len(rfm_data_sorted) * 0.2\n",
    "top_20_percent_customers = rfm_data_sorted.iloc[:int(pareto_threshold)]"
   ]
  },
  {
   "cell_type": "code",
   "execution_count": 117,
   "id": "559c8245-43bd-4339-b42b-46378269ab45",
   "metadata": {},
   "outputs": [],
   "source": [
    "# Results\n",
    "top_20_customers_count = len(top_20_percent_customers)\n",
    "revenue_80_percent = rfm_data_sorted[rfm_data_sorted['Cumulative Percentage'] <= 80]['Monetary'].sum()"
   ]
  },
  {
   "cell_type": "code",
   "execution_count": 120,
   "id": "e612f2c1-9968-432a-b37a-4fe8e15d1f6c",
   "metadata": {},
   "outputs": [
    {
     "name": "stdout",
     "output_type": "stream",
     "text": [
      "Total Monetary Value: 17.324.932,09$\n",
      "Number of customers contributing to 80% of revenue: 1172\n",
      "Top 20% of customers contribute 13.343.335,00$ to the total revenue.\n",
      "Remaining 80% of customers contribute 3.981.597,09$ to the total revenue.\n"
     ]
    }
   ],
   "source": [
    "# Print results with formatting\n",
    "print(f\"Total Monetary Value: {total_monetary:,.2f}$\".replace(',', 'X').replace('.', ',').replace('X', '.'))\n",
    "print(f\"Number of customers contributing to 80% of revenue: {len(top_20_percent_customers)}\")\n",
    "print(f\"Top 20% of customers contribute {top_20_percent_customers['Monetary'].sum():,.2f}$\".replace(',', 'X').replace('.', ',').replace('X', '.') + \" to the total revenue.\")\n",
    "print(f\"Remaining 80% of customers contribute {total_monetary - top_20_percent_customers['Monetary'].sum():,.2f}$\".replace(',', 'X').replace('.', ',').replace('X', '.') + \" to the total revenue.\")"
   ]
  },
  {
   "cell_type": "markdown",
   "id": "48b1e25c-9f1d-4d41-a83f-f85c0404e269",
   "metadata": {},
   "source": [
    "### K-means and Pareto Analysis"
   ]
  },
  {
   "cell_type": "code",
   "execution_count": 124,
   "id": "33c9365d-5534-4017-9beb-92d5a4ccd1db",
   "metadata": {},
   "outputs": [],
   "source": [
    "# Step 1: Merge RFM data with clusters\n",
    "pareto_with_clusters = rfm_data_sorted.merge(\n",
    "    rfm_data[['Cluster']], \n",
    "    left_index=True, \n",
    "    right_index=True\n",
    ")"
   ]
  },
  {
   "cell_type": "code",
   "execution_count": 125,
   "id": "880a261d-1b65-421e-84dd-32c8a4e10fdc",
   "metadata": {},
   "outputs": [],
   "source": [
    "# Step 2: Identify top 20% customers\n",
    "top_20_with_clusters = pareto_with_clusters.iloc[:int(pareto_threshold)]"
   ]
  },
  {
   "cell_type": "code",
   "execution_count": 126,
   "id": "ce2b6d27-c7cc-43b0-a2ed-3dde9b81aa56",
   "metadata": {},
   "outputs": [],
   "source": [
    "# Step 3: Group by clusters to analyze their contribution\n",
    "cluster_contribution = top_20_with_clusters.groupby('Cluster')['Monetary'].sum()\n",
    "cluster_contribution_percentage = (cluster_contribution / top_20_with_clusters['Monetary'].sum()) * 100"
   ]
  },
  {
   "cell_type": "code",
   "execution_count": 127,
   "id": "d5e1ce54-efe5-4414-b958-d2bb0e86dd0c",
   "metadata": {},
   "outputs": [],
   "source": [
    "# Step 4: Count the number of customers per cluster in the top 20%\n",
    "cluster_customer_count = top_20_with_clusters['Cluster'].value_counts()"
   ]
  },
  {
   "cell_type": "code",
   "execution_count": 129,
   "id": "c9de5975-efaf-4a0f-9057-15dca5954215",
   "metadata": {},
   "outputs": [
    {
     "name": "stdout",
     "output_type": "stream",
     "text": [
      "Monetary Contribution by Cluster in Top 20% Customers:\n",
      "Cluster\n",
      "0      405.589,76$\n",
      "1    3.636.067,38$\n",
      "2    1.717.827,64$\n",
      "3    2.220.830,51$\n",
      "4    5.363.019,71$\n",
      "Name: Monetary, dtype: object\n",
      "\n",
      "Percentage Contribution by Cluster:\n",
      "Cluster\n",
      "0     3,04%\n",
      "1    27,25%\n",
      "2    12,87%\n",
      "3    16,64%\n",
      "4    40,19%\n",
      "Name: Monetary, dtype: object\n",
      "\n",
      "Number of Customers in Top 20% by Cluster:\n",
      "Cluster\n",
      "1    696\n",
      "4    384\n",
      "0     65\n",
      "3     23\n",
      "2      4\n",
      "Name: count, dtype: int64\n"
     ]
    }
   ],
   "source": [
    "# Display results\n",
    "print(\"Monetary Contribution by Cluster in Top 20% Customers:\")\n",
    "print(cluster_contribution.apply(lambda x: f\"{x:,.2f}$\".replace(',', 'X').replace('.', ',').replace('X', '.')))\n",
    "print(\"\\nPercentage Contribution by Cluster:\")\n",
    "print(cluster_contribution_percentage.apply(lambda x: f\"{x:,.2f}%\".replace('.', ',')))\n",
    "\n",
    "print(\"\\nNumber of Customers in Top 20% by Cluster:\")\n",
    "print(cluster_customer_count)"
   ]
  },
  {
   "cell_type": "code",
   "execution_count": 132,
   "id": "9bcb4264-4ac0-4321-88c6-041196188750",
   "metadata": {},
   "outputs": [
    {
     "data": {
      "image/png": "[encoded data removed]",
      "text/plain": [
       "<Figure size 800x500 with 1 Axes>"
      ]
     },
     "metadata": {},
     "output_type": "display_data"
    }
   ],
   "source": [
    "# Bar plot for monetary contribution by cluster\n",
    "plt.figure(figsize=(8, 5))\n",
    "bars = plt.bar(\n",
    "    cluster_contribution_percentage.index, \n",
    "    cluster_contribution_percentage, \n",
    "    color=['blue', 'orange', 'green', 'red', 'purple']\n",
    ")\n",
    "plt.title('Percentage Contribution of Clusters in Top 20% Customers')\n",
    "plt.xlabel('Cluster')\n",
    "plt.ylabel('Contribution (%)')\n",
    "plt.xticks(rotation=0)\n",
    "\n",
    "# Adding data labels\n",
    "for bar in bars:\n",
    "    yval = bar.get_height()\n",
    "    plt.text(\n",
    "        bar.get_x() + bar.get_width() / 2, \n",
    "        yval + 1, \n",
    "        f'{yval:,.2f}%'.replace('.', ','), \n",
    "        ha='center', \n",
    "        va='bottom'\n",
    "    )\n",
    "plt.show()"
   ]
  },
  {
   "cell_type": "markdown",
   "id": "3d1e2101-7ea7-4ae3-994a-b6d40fdeadce",
   "metadata": {},
   "source": [
    "## Final Insights and Recommendations:"
   ]
  },
  {
   "cell_type": "markdown",
   "id": "a3351a6c-5250-4820-b8df-d474ff7959a1",
   "metadata": {},
   "source": [
    "**Clusters 3 and 4: Premium Customers**\n",
    "* Key Data:\n",
    "    * Only 27 customers (23 in Cluster 3, 4 in Cluster 4) generate over €7.5 million in revenue.\n",
    "    * High frequency and monetary value.\n",
    "* Recommendations:\n",
    "  1. Exclusive Loyalty Programs: VIP discounts, free shipping, access to premium products or events.\n",
    "  2. Personalized Service: Dedicated support channels or account managers.\n",
    "  3. Co-Creation: Engage them in surveys or new product panels.\n",
    "  4. Luxury Offers: Limited editions or premium product lines tailored for them."
   ]
  },
  {
   "cell_type": "markdown",
   "id": "66718df0-7c65-433c-b476-b1caec199b01",
   "metadata": {},
   "source": [
    "**Clusters 0 and 1: Strategic Customers**\n",
    "* Key Data:\n",
    "    * Account for nearly 90% of customers in the Top 20%.\n",
    "    * Generate moderate revenue but ensure stability through volume.\n",
    "* Recommendations:\n",
    "    1. Targeted Promotions: Discounts, combo deals, and bulk-buy incentives.\n",
    "    2. Loyalty Points System: Reward frequent purchases with redeemable points.\n",
    "    3. Educational Marketing: Product tutorials and recommendations.\n",
    "    4. Cross-Selling: Suggest complementary or premium products."
   ]
  },
  {
   "cell_type": "markdown",
   "id": "1aeee128-c223-472b-9ba0-19266b6c9ec6",
   "metadata": {},
   "source": [
    "**Cluster 2: High-Value Niche Customers**\n",
    "* Key Data:\n",
    "    * Just 4 customers but exceptionally high revenue contribution.\n",
    "* Recommendations:\n",
    "    1. Executive Engagement: Foster direct relationships with top management.\n",
    "    2. Exclusive Offers: Personalized deals and added-value services.\n",
    "    3. Behavior Analysis: Study their preferences to attract similar profiles."
   ]
  },
  {
   "cell_type": "markdown",
   "id": "e83328b9-c08b-4821-833a-6293821a8684",
   "metadata": {},
   "source": [
    "#### Summary:\n",
    "Focus on **Clusters 3 and 4** for premium loyalty strategies and high-value retention. Leverage **Clusters 0 and 1** for consistent volume and upselling opportunities. Use insights from **Cluster 2** to replicate success and attract similar high-value customers."
   ]
  },
  {
   "cell_type": "code",
   "execution_count": null,
   "id": "5d851a4e-b53f-4d4a-b0e3-c4b99e93b617",
   "metadata": {},
   "outputs": [],
   "source": []
  }
 ],
 "metadata": {
  "kernelspec": {
   "display_name": "Python 3 (ipykernel)",
   "language": "python",
   "name": "python3"
  },
  "language_info": {
   "codemirror_mode": {
    "name": "ipython",
    "version": 3
   },
   "file_extension": ".py",
   "mimetype": "text/x-python",
   "name": "python",
   "nbconvert_exporter": "python",
   "pygments_lexer": "ipython3",
   "version": "3.9.21"
  }
 },
 "nbformat": 4,
 "nbformat_minor": 5
}
